{
 "cells": [
  {
   "cell_type": "code",
   "execution_count": null,
   "metadata": {},
   "outputs": [],
   "source": [
    "import pandas as pd\n",
    "import scipy as sc\n",
    "import numpy as np\n",
    "from sklearn.feature_extraction.text import TfidfVectorizer\n",
    "from nltk.stem import PorterStemmer\n",
    "from nltk.stem.wordnet import WordNetLemmatizer\n",
    "from nltk.corpus import stopwords\n",
    "from tqdm import tqdm_notebook\n",
    "import nltk\n",
    "import random\n",
    "import matplotlib.pyplot as plt"
   ]
  },
  {
   "cell_type": "code",
   "execution_count": null,
   "metadata": {},
   "outputs": [],
   "source": [
    "df = pd.read_csv('papers.csv')\n",
    "aut=pd.read_csv('paper_authors.csv')\n",
    "documents = list(df[\"paper_text\"].values)[:3513]\n",
    "documents = [\" \".join([PorterStemmer().stem(word) for word in sentence.split(\" \")]) for sentence in documents]\n",
    "paper_id = list(df[\"id\"].values)[:3513]\n",
    "ar=[]\n",
    "for i in range(len(documents)):\n",
    "    ar.append([documents[i],paper_id[i]])\n",
    "random.shuffle(ar)\n",
    "documents=[]\n",
    "paper_id=[]\n",
    "for i in range(len(ar)):\n",
    "    documents.append(ar[i][0])\n",
    "    paper_id.append(ar[i][1])"
   ]
  },
  {
   "cell_type": "code",
   "execution_count": null,
   "metadata": {},
   "outputs": [],
   "source": [
    "tfidf = TfidfVectorizer(stop_words=stopwords.words('english'))\n",
    "X = tfidf.fit_transform(documents)"
   ]
  },
  {
   "cell_type": "code",
   "execution_count": null,
   "metadata": {},
   "outputs": [],
   "source": [
    "papr_id = list(aut[\"paper_id\"].values)\n",
    "pap_id=np.asarray(papr_id)\n",
    "aut_id = list(aut[\"author_id\"].values)\n",
    "split=3200\n",
    "train_paperid=paper_id[:split]\n",
    "test_paperid=paper_id[split:]"
   ]
  },
  {
   "cell_type": "code",
   "execution_count": null,
   "metadata": {},
   "outputs": [],
   "source": [
    "auth=[]\n",
    "for i in paper_id:\n",
    "    ind=np.where(pap_id==i)[0]\n",
    "    lis=[]\n",
    "    for j in ind:\n",
    "        lis.append(aut_id[j])\n",
    "    auth.append(lis)"
   ]
  },
  {
   "cell_type": "code",
   "execution_count": null,
   "metadata": {},
   "outputs": [],
   "source": [
    "authors=[]\n",
    "for i in train_paperid:\n",
    "    ind=np.where(pap_id==i)[0]\n",
    "    for j in ind:\n",
    "        m=0\n",
    "        for k in authors:\n",
    "            if (aut_id[j]==k):\n",
    "                m=1\n",
    "                break\n",
    "        if (m==0):\n",
    "            authors.append(aut_id[j])"
   ]
  },
  {
   "cell_type": "code",
   "execution_count": null,
   "metadata": {},
   "outputs": [],
   "source": [
    "#9784 authors,4625 authors,3982 train authors\n",
    "aut_pap=[]\n",
    "for i in authors:\n",
    "    lis=[]\n",
    "    lis.append(i)\n",
    "    for j in range(len(train_paperid)):\n",
    "        for k in auth[j]:\n",
    "            if (i==k):\n",
    "                lis.append(j)\n",
    "                break\n",
    "    aut_pap.append(lis)"
   ]
  },
  {
   "cell_type": "code",
   "execution_count": null,
   "metadata": {},
   "outputs": [],
   "source": [
    "tr=[]\n",
    "for i in range(len(test_paperid)):\n",
    "    m=0\n",
    "    for j in auth[split+i]:\n",
    "        for k in authors:\n",
    "            if (j==k):\n",
    "                m=1\n",
    "                break\n",
    "        if (m==1):\n",
    "            break\n",
    "    tr.append(m)"
   ]
  },
  {
   "cell_type": "markdown",
   "metadata": {},
   "source": [
    "# Max Similarity"
   ]
  },
  {
   "cell_type": "code",
   "execution_count": null,
   "metadata": {},
   "outputs": [],
   "source": [
    "lab=[]\n",
    "for i in tqdm_notebook(range(len(test_paperid))):\n",
    "    maxim=0\n",
    "    maxind=-1\n",
    "    if(tr[i]):\n",
    "        for j in range(len(train_paperid)):\n",
    "            sim=np.dot(X[j],X[split+i].T)\n",
    "            if (sim>maxim):\n",
    "                maxim=sim\n",
    "                maxind=j\n",
    "    lab.append(maxind)"
   ]
  },
  {
   "cell_type": "code",
   "execution_count": null,
   "metadata": {},
   "outputs": [],
   "source": [
    "tot=0\n",
    "for i in range(len(test_paperid)):\n",
    "    y=0\n",
    "    for k in auth[split+i]:\n",
    "        if(lab[i]!=-1):\n",
    "            for l in auth[lab[i]]:\n",
    "                if(k==l):\n",
    "                    tot=tot+1\n",
    "                    y=1\n",
    "                    break\n",
    "            if (y==1):\n",
    "                break\n",
    "acc=tot/np.sum(tr)\n",
    "print (acc)"
   ]
  },
  {
   "cell_type": "markdown",
   "metadata": {},
   "source": [
    "# Concatenate (Accuracy + MRR)"
   ]
  },
  {
   "cell_type": "code",
   "execution_count": null,
   "metadata": {},
   "outputs": [],
   "source": [
    "a,b=np.shape(X)\n",
    "Xc=[]\n",
    "for i in range(len(authors)):\n",
    "    lis=np.zeros(b)\n",
    "    for j in range(len(aut_pap[i])):\n",
    "        if(j==0):\n",
    "            continue\n",
    "        lis=lis+(X[aut_pap[i][j]].todense())\n",
    "    Xc.append(lis)\n",
    "Xp= np.stack(Xc,axis=0)\n",
    "Xr=sc.sparse.csr_matrix(Xp)"
   ]
  },
  {
   "cell_type": "code",
   "execution_count": null,
   "metadata": {},
   "outputs": [],
   "source": [
    "def takeFirst(e):\n",
    "    return e[0]\n",
    "lab=[]\n",
    "mrr=[]\n",
    "for i in tqdm_notebook(range(len(test_paperid))):\n",
    "    tot=0\n",
    "    se=[]\n",
    "    Q=0\n",
    "    S=0\n",
    "    if(tr[i]):\n",
    "        for j in range(len(authors)):\n",
    "            n2=np.linalg.norm(Xr[j].todense())\n",
    "            sim=float((np.dot(Xr[j],X[split+i].T)/n2).todense())\n",
    "            se.append((sim,j))\n",
    "        se.sort(key=takeFirst,reverse=True)\n",
    "        for k in range(len(authors)):\n",
    "            for l in auth[split+i]:\n",
    "                if(authors[se[k][1]]==l):\n",
    "                    tot=tot+(1/(k+1))\n",
    "                    Q=Q+1\n",
    "                    S=S+1/Q\n",
    "                    break\n",
    "        if(S>0):\n",
    "            mrr.append(tot/S)\n",
    "        else:\n",
    "            mrr.append(0)\n",
    "        lab.append([se[0][1],se[1][1],se[2][1]])"
   ]
  },
  {
   "cell_type": "code",
   "execution_count": null,
   "metadata": {},
   "outputs": [],
   "source": [
    "tot=0\n",
    "q=0\n",
    "for i in range(len(test_paperid)):\n",
    "    if(tr[i]==0):\n",
    "        q=q+1\n",
    "        continue\n",
    "    y=0\n",
    "    for k in auth[split+i]:\n",
    "        for j in range(3):\n",
    "            if(k==authors[lab[i-q][j]]):\n",
    "                tot=tot+1\n",
    "                y=1\n",
    "                break\n",
    "        if (y==1):\n",
    "            break\n",
    "acc2=tot/np.sum(tr)\n",
    "avermrr=np.sum(mrr)/len(mrr)\n",
    "print (acc2,avermrr)"
   ]
  },
  {
   "cell_type": "markdown",
   "metadata": {},
   "source": [
    "# Concatenate Top 3"
   ]
  },
  {
   "cell_type": "code",
   "execution_count": null,
   "metadata": {},
   "outputs": [],
   "source": [
    "lab=[]\n",
    "for i in tqdm_notebook(range(len(test_paperid))):\n",
    "    maxim=np.zeros(3)\n",
    "    maxind=[-1,-1,-1]\n",
    "    if(tr[i]):\n",
    "        for j in range(len(authors)):\n",
    "            n2=np.linalg.norm(Xr[j].todense())\n",
    "            sim=float((np.dot(Xr[j],X[split+i].T)/n2).todense())\n",
    "            if (sim>maxim[0]):\n",
    "                maxim[2]=maxim[1]\n",
    "                maxim[1]=maxim[0]\n",
    "                maxim[0]=sim\n",
    "                maxind[2]=maxind[1]\n",
    "                maxind[1]=maxind[0]\n",
    "                maxind[0]=j\n",
    "            elif (sim>maxim[1]):\n",
    "                maxim[2]=maxim[1]\n",
    "                maxim[1]=sim\n",
    "                maxind[2]=maxind[1]\n",
    "                maxind[1]=j\n",
    "            elif (sim>maxim[2]):\n",
    "                maxim[2]=sim\n",
    "                maxind[2]=j\n",
    "    lab.append(maxind)"
   ]
  },
  {
   "cell_type": "code",
   "execution_count": null,
   "metadata": {},
   "outputs": [],
   "source": [
    "tot=0\n",
    "for i in range(len(test_paperid)):\n",
    "    y=0\n",
    "    if(lab[i]!=-1):\n",
    "        for k in auth[split+i]:\n",
    "            for j in range(3):\n",
    "                if(k==authors[lab[i][j]]):\n",
    "                    tot=tot+1\n",
    "                    y=1\n",
    "                    break\n",
    "            if (y==1):\n",
    "                break\n",
    "acc2=tot/np.sum(tr)\n",
    "print (acc2)"
   ]
  },
  {
   "cell_type": "markdown",
   "metadata": {},
   "source": [
    "# Average"
   ]
  },
  {
   "cell_type": "code",
   "execution_count": null,
   "metadata": {},
   "outputs": [],
   "source": [
    "lab=[]\n",
    "for i in tqdm_notebook(range(len(test_paperid))):\n",
    "    maxim=0\n",
    "    maxind=-1\n",
    "    if(tr[i]):\n",
    "        for j in range(len(authors)):\n",
    "            sim=0\n",
    "            for k in range(len(aut_pap[j])):\n",
    "                if (k==0):\n",
    "                    continue\n",
    "                n2=np.linalg.norm(X[aut_pap[j][k]].todense())\n",
    "                sim=sim+float((np.dot(X[aut_pap[j][k]],X[split+i].T)/n2).todense())\n",
    "            sim=sim/(len(aut_pap[j]))\n",
    "            if (sim>maxim):\n",
    "                maxim=sim\n",
    "                maxind=j\n",
    "    lab.append(maxind)"
   ]
  },
  {
   "cell_type": "code",
   "execution_count": null,
   "metadata": {},
   "outputs": [],
   "source": [
    "tot=0\n",
    "for i in range(len(test_paperid)):\n",
    "    y=0\n",
    "    if(lab[i]!=-1):\n",
    "        for k in auth[split+i]:\n",
    "            if(k==authors[lab[i]]):\n",
    "                tot=tot+1\n",
    "                break\n",
    "acc4=tot/np.sum(tr)\n",
    "print (acc4)"
   ]
  }
 ],
 "metadata": {
  "kernelspec": {
   "display_name": "Python 3",
   "language": "python",
   "name": "python3"
  },
  "language_info": {
   "codemirror_mode": {
    "name": "ipython",
    "version": 3
   },
   "file_extension": ".py",
   "mimetype": "text/x-python",
   "name": "python",
   "nbconvert_exporter": "python",
   "pygments_lexer": "ipython3",
   "version": "3.7.1"
  }
 },
 "nbformat": 4,
 "nbformat_minor": 2
}
